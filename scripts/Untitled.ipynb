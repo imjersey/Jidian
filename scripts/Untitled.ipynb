{
 "cells": [
  {
   "cell_type": "code",
   "execution_count": 5,
   "metadata": {},
   "outputs": [
    {
     "name": "stdout",
     "output_type": "stream",
     "text": [
      " np_input shape:  (219559, 100, 10) labelData shape:  (219559,)\n"
     ]
    }
   ],
   "source": [
    "\n",
    "from __future__ import absolute_import\n",
    "from __future__ import division\n",
    "from __future__ import print_function\n",
    "import scipy.io\n",
    "from sklearn.model_selection import GridSearchCV\n",
    "import numpy as np\n",
    "from numpy import *\n",
    "from sklearn.metrics import confusion_matrix\n",
    "from sklearn.model_selection import train_test_split\n",
    "from sklearn import preprocessing\n",
    "import os\n",
    "import gzip\n",
    "import os\n",
    "import numpy\n",
    "from six.moves import urllib\n",
    "from six.moves import xrange  # pylint: disable=redefined-builtin\n",
    "\n",
    "\n",
    "class DataSets(object):\n",
    "        pass\n",
    "        \n",
    "        \n",
    "def load_data(_path,key):\n",
    "        mat = scipy.io.loadmat(_path)\n",
    "\n",
    "        signals = mat[key][0]['data']\n",
    "        label = mat[key][0]['label']\n",
    "        m_signals = np.array([item.T for item in signals])\n",
    "        m_label = np.array([item[0][0] for item in label])\n",
    "\n",
    "        return m_signals, m_label\n",
    "    \n",
    "    \n",
    "\n",
    "np_input, labelData = [],[]\n",
    "\n",
    "data_sets = DataSets()\n",
    "\n",
    "man_input, man_label = load_data('../data/DataSet_10x100_HumanHighQty.mat',\"DataSetHuman_Hqty\")\n",
    "man_input2, man_label2 = load_data('../data/DataSet_10x100_HumanMidQty.mat',\"DataSetHuman_Mqty\")\n",
    "man_input3, man_label3 = load_data('../data/DataSet_10x100_HumanLowQty.mat',\"DataSetHuman_Lqty\")\n",
    "\n",
    "rain_input, rain_label = load_data('../data/DataSet_10x100_DSZRainiHighQty.mat',\"DataSetDSZRain_Hqty\")\n",
    "rain_input2, rain_label2 = load_data('../data/DataSet_10x100_DSZRainiMidQty.mat',\"DataSetDSZRain_Mqty\")\n",
    "rain_input3, rain_label3 = load_data('../data/DataSet_10x100_DSZRainiLowQty.mat',\"DataSetDSZRain_Lqty\")\n",
    "wushi_car_input3, wushi_car_label3 = load_data('../data/DataSet_10x100_CarWuShiLowQty.mat',\"DataSetDSZCar_Lqty\")\n",
    "np_input, labelData = np.concatenate((man_input, rain_input,man_input2, rain_input2)), np.concatenate((man_label, rain_label,man_label2, rain_label2))\n",
    "print(\" np_input shape:  \"+ str(np_input.shape) + \" labelData shape:  \"+str(labelData.shape))"
   ]
  },
  {
   "cell_type": "code",
   "execution_count": 6,
   "metadata": {},
   "outputs": [
    {
     "data": {
      "text/plain": [
       "array([[[-51, -66, -85, ..., -63, -81, -69],\n",
       "        [-51, -66, -85, ..., -63, -81, -68],\n",
       "        [-51, -66, -85, ..., -63, -83, -68],\n",
       "        ..., \n",
       "        [-51, -66, -91, ..., -63, -84, -68],\n",
       "        [-51, -66, -85, ..., -63, -84, -68],\n",
       "        [-51, -66, -79, ..., -63, -84, -68]],\n",
       "\n",
       "       [[-51, -66, -85, ..., -65, -77, -69],\n",
       "        [-51, -66, -85, ..., -65, -77, -68],\n",
       "        [-51, -67, -83, ..., -64, -78, -68],\n",
       "        ..., \n",
       "        [-51, -67, -84, ..., -63, -83, -67],\n",
       "        [-51, -67, -84, ..., -63, -85, -68],\n",
       "        [-51, -67, -82, ..., -63, -84, -68]],\n",
       "\n",
       "       [[-51, -66, -85, ..., -62, -81, -68],\n",
       "        [-51, -66, -85, ..., -62, -81, -69],\n",
       "        [-51, -66, -85, ..., -63, -82, -68],\n",
       "        ..., \n",
       "        [-51, -66, -86, ..., -63, -82, -69],\n",
       "        [-51, -66, -86, ..., -64, -81, -68],\n",
       "        [-51, -66, -86, ..., -63, -82, -68]],\n",
       "\n",
       "       ..., \n",
       "       [[-69, -60, -77, ..., -57, -75, -71],\n",
       "        [-70, -60, -78, ..., -57, -75, -70],\n",
       "        [-69, -60, -78, ..., -57, -75, -69],\n",
       "        ..., \n",
       "        [-70, -60, -73, ..., -58, -80, -67],\n",
       "        [-70, -60, -74, ..., -58, -78, -67],\n",
       "        [-69, -60, -73, ..., -58, -77, -67]],\n",
       "\n",
       "       [[-71, -60, -75, ..., -56, -74, -72],\n",
       "        [-70, -60, -75, ..., -57, -73, -71],\n",
       "        [-70, -60, -75, ..., -57, -73, -72],\n",
       "        ..., \n",
       "        [-70, -60, -75, ..., -57, -73, -70],\n",
       "        [-70, -60, -75, ..., -57, -74, -72],\n",
       "        [-69, -60, -75, ..., -57, -73, -72]],\n",
       "\n",
       "       [[-78, -60, -67, ..., -80, -64, -61],\n",
       "        [-78, -60, -69, ..., -80, -64, -61],\n",
       "        [-78, -60, -69, ..., -79, -64, -61],\n",
       "        ..., \n",
       "        [-78, -60, -65, ..., -78, -64, -62],\n",
       "        [-78, -60, -65, ..., -77, -64, -62],\n",
       "        [-78, -60, -65, ..., -76, -64, -62]]], dtype=int8)"
      ]
     },
     "execution_count": 6,
     "metadata": {},
     "output_type": "execute_result"
    }
   ],
   "source": [
    "np_input"
   ]
  },
  {
   "cell_type": "code",
   "execution_count": 7,
   "metadata": {},
   "outputs": [
    {
     "data": {
      "text/plain": [
       "array([1, 1, 1, ..., 0, 0, 0], dtype=int8)"
      ]
     },
     "execution_count": 7,
     "metadata": {},
     "output_type": "execute_result"
    }
   ],
   "source": [
    "labelData"
   ]
  },
  {
   "cell_type": "code",
   "execution_count": 13,
   "metadata": {},
   "outputs": [],
   "source": [
    "path='../data/Man.mat'\n",
    "mat = scipy.io.loadmat(path)"
   ]
  },
  {
   "cell_type": "code",
   "execution_count": 16,
   "metadata": {},
   "outputs": [
    {
     "data": {
      "text/plain": [
       "dict_keys(['__header__', 'DataSetHuman', '__version__', '__globals__'])"
      ]
     },
     "execution_count": 16,
     "metadata": {},
     "output_type": "execute_result"
    }
   ],
   "source": [
    "mat.keys()"
   ]
  },
  {
   "cell_type": "code",
   "execution_count": 17,
   "metadata": {},
   "outputs": [
    {
     "data": {
      "text/plain": [
       "['__class__',\n",
       " '__contains__',\n",
       " '__delattr__',\n",
       " '__delitem__',\n",
       " '__dir__',\n",
       " '__doc__',\n",
       " '__eq__',\n",
       " '__format__',\n",
       " '__ge__',\n",
       " '__getattribute__',\n",
       " '__getitem__',\n",
       " '__gt__',\n",
       " '__hash__',\n",
       " '__init__',\n",
       " '__iter__',\n",
       " '__le__',\n",
       " '__len__',\n",
       " '__lt__',\n",
       " '__ne__',\n",
       " '__new__',\n",
       " '__reduce__',\n",
       " '__reduce_ex__',\n",
       " '__repr__',\n",
       " '__setattr__',\n",
       " '__setitem__',\n",
       " '__sizeof__',\n",
       " '__str__',\n",
       " '__subclasshook__',\n",
       " 'clear',\n",
       " 'copy',\n",
       " 'fromkeys',\n",
       " 'get',\n",
       " 'items',\n",
       " 'keys',\n",
       " 'pop',\n",
       " 'popitem',\n",
       " 'setdefault',\n",
       " 'update',\n",
       " 'values']"
      ]
     },
     "execution_count": 17,
     "metadata": {},
     "output_type": "execute_result"
    }
   ],
   "source": [
    "dir(mat)"
   ]
  },
  {
   "cell_type": "code",
   "execution_count": 18,
   "metadata": {},
   "outputs": [
    {
     "data": {
      "text/plain": [
       "dict"
      ]
     },
     "execution_count": 18,
     "metadata": {},
     "output_type": "execute_result"
    }
   ],
   "source": [
    "type(mat)"
   ]
  },
  {
   "cell_type": "code",
   "execution_count": null,
   "metadata": {},
   "outputs": [],
   "source": [
    "Scale: (10x100) :\n",
    "Human dataset：\n",
    "HighQty： 015304 (key: DataSetHuman_Hqty)；       MidQty： 020717 (key: DataSetHuman_Mqty)；      LowQty： 013452 (key: DataSetHuman_Lqty)\n",
    "\n",
    "Rain dataset：：\n",
    "HighQty： 034428 (key: DataSetDSZRain_Hqty)；     MidQty： 149110 (key: DataSetDSZRain_Mqty)；    LowQty： 327073 (key: DataSetDSZRain_Lqty)\n"
   ]
  }
 ],
 "metadata": {
  "kernelspec": {
   "display_name": "Python 3",
   "language": "python",
   "name": "python3"
  },
  "language_info": {
   "codemirror_mode": {
    "name": "ipython",
    "version": 3
   },
   "file_extension": ".py",
   "mimetype": "text/x-python",
   "name": "python",
   "nbconvert_exporter": "python",
   "pygments_lexer": "ipython3",
   "version": "3.5.3"
  }
 },
 "nbformat": 4,
 "nbformat_minor": 2
}
